{
 "cells": [
  {
   "cell_type": "code",
   "execution_count": 2,
   "metadata": {},
   "outputs": [],
   "source": [
    "from datasets import load_dataset, Dataset\n",
    "import csv, json\n",
    "\n",
    "dataset_path = \"./mixed/ConFIRM_QAset_559n_mixed.csv\"\n",
    "\n",
    "text_column = \"question\"\n",
    "label_column = \"expected_fields\"\n",
    "    \n",
    "# dataset from from local path\n",
    "def get_successful(all_data):\n",
    "    successful=[]\n",
    "    for obj in all_data:\n",
    "        if type(obj[label_column]) == list:\n",
    "            obj[label_column] = str(obj[label_column])\n",
    "            \n",
    "        # handling for old dataset with quality column\n",
    "        if \"quality\" in obj:\n",
    "            if obj[\"quality\"] == \"1\" or obj[\"quality\"] == \"2\":\n",
    "                successful.append(obj)\n",
    "                \n",
    "        # new dataset without quality column\n",
    "        else:\n",
    "            successful.append(obj)\n",
    "    return successful\n",
    "            \n",
    "if \".csv\" in dataset_path:\n",
    "    with open(dataset_path, \"r\") as f:\n",
    "        csv_reader = csv.DictReader(f)\n",
    "        successful = get_successful(csv_reader)\n",
    "elif \".json\" in dataset_path:\n",
    "    with open(dataset_path, \"r\") as f:\n",
    "        qa_pairs = json.load(f)\n",
    "        successful = get_successful(qa_pairs)\n",
    "else:\n",
    "    raise ValueError(\"unsupported dataset file format.\")\n",
    "dataset = Dataset.from_list(successful)\n",
    "\n",
    "# TODO: change to a separate test data set\n",
    "dataset = dataset.train_test_split(test_size=0.1)"
   ]
  },
  {
   "cell_type": "code",
   "execution_count": 4,
   "metadata": {},
   "outputs": [
    {
     "name": "stderr",
     "output_type": "stream",
     "text": [
      "Creating CSV from Arrow format: 100%|██████████| 1/1 [00:00<00:00, 30.05ba/s]\n",
      "Creating CSV from Arrow format: 100%|██████████| 1/1 [00:00<00:00, 245.12ba/s]\n"
     ]
    },
    {
     "data": {
      "text/plain": [
       "162631"
      ]
     },
     "execution_count": 4,
     "metadata": {},
     "output_type": "execute_result"
    }
   ],
   "source": [
    "dataset[\"train\"].to_csv(dataset_path.removesuffix(\".csv\") + \"_train.csv\")\n",
    "dataset[\"test\"].to_csv(dataset_path.removesuffix(\".csv\") + \"_test.csv\")"
   ]
  }
 ],
 "metadata": {
  "kernelspec": {
   "display_name": "confirm",
   "language": "python",
   "name": "python3"
  },
  "language_info": {
   "codemirror_mode": {
    "name": "ipython",
    "version": 3
   },
   "file_extension": ".py",
   "mimetype": "text/x-python",
   "name": "python",
   "nbconvert_exporter": "python",
   "pygments_lexer": "ipython3",
   "version": "3.9.18"
  },
  "orig_nbformat": 4
 },
 "nbformat": 4,
 "nbformat_minor": 2
}
