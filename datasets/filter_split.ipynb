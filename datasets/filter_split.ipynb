{
 "cells": [
  {
   "cell_type": "code",
   "execution_count": 17,
   "metadata": {},
   "outputs": [
    {
     "name": "stdout",
     "output_type": "stream",
     "text": [
      "18708\n"
     ]
    },
    {
     "data": {
      "text/html": [
       "<div>\n",
       "<style scoped>\n",
       "    .dataframe tbody tr th:only-of-type {\n",
       "        vertical-align: middle;\n",
       "    }\n",
       "\n",
       "    .dataframe tbody tr th {\n",
       "        vertical-align: top;\n",
       "    }\n",
       "\n",
       "    .dataframe thead th {\n",
       "        text-align: right;\n",
       "    }\n",
       "</style>\n",
       "<table border=\"1\" class=\"dataframe\">\n",
       "  <thead>\n",
       "    <tr style=\"text-align: right;\">\n",
       "      <th></th>\n",
       "      <th>question</th>\n",
       "      <th>expected_fields</th>\n",
       "    </tr>\n",
       "  </thead>\n",
       "  <tbody>\n",
       "    <tr>\n",
       "      <th>0</th>\n",
       "      <td>What are the recent updates regarding the fina...</td>\n",
       "      <td>['news_data']</td>\n",
       "    </tr>\n",
       "    <tr>\n",
       "      <th>1</th>\n",
       "      <td>What are the five most recent updates on Tesla...</td>\n",
       "      <td>['news_data']</td>\n",
       "    </tr>\n",
       "    <tr>\n",
       "      <th>2</th>\n",
       "      <td>What are the most recent updates regarding App...</td>\n",
       "      <td>['news_data']</td>\n",
       "    </tr>\n",
       "    <tr>\n",
       "      <th>3</th>\n",
       "      <td>What's the latest update on Apple's financial ...</td>\n",
       "      <td>['news_data']</td>\n",
       "    </tr>\n",
       "    <tr>\n",
       "      <th>4</th>\n",
       "      <td>What is the latest news update regarding the r...</td>\n",
       "      <td>['news_data']</td>\n",
       "    </tr>\n",
       "  </tbody>\n",
       "</table>\n",
       "</div>"
      ],
      "text/plain": [
       "                                            question expected_fields\n",
       "0  What are the recent updates regarding the fina...   ['news_data']\n",
       "1  What are the five most recent updates on Tesla...   ['news_data']\n",
       "2  What are the most recent updates regarding App...   ['news_data']\n",
       "3  What's the latest update on Apple's financial ...   ['news_data']\n",
       "4  What is the latest news update regarding the r...   ['news_data']"
      ]
     },
     "execution_count": 17,
     "metadata": {},
     "output_type": "execute_result"
    }
   ],
   "source": [
    "# Read csv shards\n",
    "import os\n",
    "import pandas as pd\n",
    "\n",
    "# specify the directory you want to use\n",
    "path = './chagpt/unfiltered'\n",
    "\n",
    "data_frames = []\n",
    "\n",
    "# iterate over all files in the directory\n",
    "for filename in os.listdir(path):\n",
    "    if filename.endswith('.csv'):\n",
    "        df = pd.read_csv(os.path.join(path, filename))\n",
    "        data_frames.append(df)\n",
    "\n",
    "# concatenate all the dataframes in the list\n",
    "all_data = pd.concat(data_frames, ignore_index=True)\n",
    "print(all_data.size)\n",
    "all_data.head()"
   ]
  },
  {
   "cell_type": "code",
   "execution_count": 18,
   "metadata": {},
   "outputs": [],
   "source": [
    "# filter out duplicates in the QA sets\n",
    "import re\n",
    "import pandas as pd\n",
    "from typing import List, Callable\n",
    "from itertools import combinations\n",
    "\n",
    "\n",
    "def _rouge_l_axis_0(\n",
    "        df: pd.DataFrame, columns: List[str],\n",
    "        threshold: float) -> pd.DataFrame:\n",
    "    from rouge_score import rouge_scorer\n",
    "    scorer = rouge_scorer.RougeScorer([\"rougeL\"], use_stemmer=False)\n",
    "    drop_indices = []\n",
    "\n",
    "    for column in columns:\n",
    "            \n",
    "        questions = df[column].tolist()\n",
    "        filtered_questions = []\n",
    "        for i, question in enumerate(questions):\n",
    "            if not any(\n",
    "                    scorer.score(existing_question, question)['rougeL'].fmeasure >\n",
    "                    threshold for existing_question in filtered_questions):\n",
    "                filtered_questions.append(question)\n",
    "            else:\n",
    "                drop_indices.append(i)\n",
    "    \n",
    "    if threshold < 1: # Edge case, which allows for identical questions\n",
    "        for column in columns:\n",
    "            df = df.drop_duplicates(subset=[column], keep='first')\n",
    "\n",
    "    df = df.drop(drop_indices, errors='ignore')\n",
    "    return df\n",
    "\n",
    "\n",
    "def _rouge_l_axis_1(\n",
    "        df: pd.DataFrame, columns: List[str],\n",
    "        threshold: float) -> pd.DataFrame:\n",
    "    from rouge_score import rouge_scorer\n",
    "\n",
    "    assert len(columns) >= 2, \"Must provide at least two columns\"\n",
    "\n",
    "    scorer = rouge_scorer.RougeScorer([\"rougeL\"], use_stemmer=False)\n",
    "\n",
    "    def is_below_threshold(row):\n",
    "        for column_a, column_b in combinations(columns, 2):\n",
    "            score = scorer.score(row[column_a], row[column_b])[\n",
    "                'rougeL'].fmeasure\n",
    "            if score > threshold:\n",
    "                return False\n",
    "        return True\n",
    "\n",
    "    mask = df.apply(is_below_threshold, axis=1)\n",
    "    return df[mask]\n",
    "\n",
    "\n",
    "def rouge_l(\n",
    "        df: pd.DataFrame, columns: List[str],\n",
    "        axis: int = 0, threshold: float = 0.7) -> pd.DataFrame:\n",
    "    \"\"\"\n",
    "    Filter out generated questions that are word-for-word too similar to the\n",
    "    other questions.\n",
    "\n",
    "    Args:\n",
    "        df: DataFrame containing the questions to filter\n",
    "        columns: Name of the columns containing the columns to filter by\n",
    "        axis: Axis to apply the filter on. 0 for vertical, 1 for horizontal.\n",
    "        threshold: Rouge-L threshold to use for filtering. 0.7 is the threshold\n",
    "            used by the self-instruct paper.\n",
    "            *Note: threshold=1 means questions can be identical.\n",
    "    \"\"\"\n",
    "    if axis == 0:\n",
    "        return _rouge_l_axis_0(df, columns, threshold)\n",
    "    elif axis == 1:\n",
    "        return _rouge_l_axis_1(df, columns, threshold)\n",
    "    else:\n",
    "        raise ValueError(\"Axis must be 0 or 1\")\n",
    "\n",
    "filtered_0 = rouge_l(all_data, columns=['question'])\n",
    "print(\"axis 0 done\")\n",
    "filtered_1 = rouge_l(filtered_0, columns=['question', 'expected_fields'], axis=1, threshold=0.3)\n",
    "print(filtered_1.size)\n",
    "filtered_1.head()"
   ]
  },
  {
   "cell_type": "code",
   "execution_count": null,
   "metadata": {},
   "outputs": [],
   "source": [
    "from datasets import load_dataset, Dataset\n",
    "\n",
    "dataset = Dataset.from_pandas(filtered_1)\n",
    "dataset = dataset.shuffle()\n",
    "# TODO: change to a separate test data set\n",
    "dataset = dataset.train_test_split(test_size=0.2)"
   ]
  },
  {
   "cell_type": "code",
   "execution_count": null,
   "metadata": {},
   "outputs": [
    {
     "name": "stderr",
     "output_type": "stream",
     "text": [
      "Creating CSV from Arrow format: 100%|██████████| 3/3 [00:00<00:00, 172.70ba/s]\n",
      "Creating CSV from Arrow format: 100%|██████████| 1/1 [00:00<00:00, 226.58ba/s]\n"
     ]
    },
    {
     "data": {
      "text/plain": [
       "99841"
      ]
     },
     "execution_count": 16,
     "metadata": {},
     "output_type": "execute_result"
    }
   ],
   "source": [
    "dataset_path = f\"./chagpt/ConFIRM_QAset_{all_data.size}n_gpt\"\n",
    "dataset[\"train\"].to_csv(dataset_path + \"_train.csv\")\n",
    "dataset[\"test\"].to_csv(dataset_path + \"_test.csv\")"
   ]
  }
 ],
 "metadata": {
  "kernelspec": {
   "display_name": "confirm",
   "language": "python",
   "name": "python3"
  },
  "language_info": {
   "codemirror_mode": {
    "name": "ipython",
    "version": 3
   },
   "file_extension": ".py",
   "mimetype": "text/x-python",
   "name": "python",
   "nbconvert_exporter": "python",
   "pygments_lexer": "ipython3",
   "version": "3.9.18"
  },
  "orig_nbformat": 4
 },
 "nbformat": 4,
 "nbformat_minor": 2
}
